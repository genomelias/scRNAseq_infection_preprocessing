{
 "cells": [
  {
   "cell_type": "code",
   "execution_count": null,
   "id": "conscious-consultancy",
   "metadata": {},
   "outputs": [],
   "source": []
  },
  {
   "cell_type": "code",
   "execution_count": 1,
   "id": "close-bidder",
   "metadata": {
    "tags": []
   },
   "outputs": [
    {
     "name": "stderr",
     "output_type": "stream",
     "text": [
      "WARNING: If you miss a compact list, please try `print_header`!\n"
     ]
    },
    {
     "name": "stdout",
     "output_type": "stream",
     "text": [
      "-----\n",
      "anndata     0.7.5\n",
      "scanpy      1.7.1\n",
      "sinfo       0.3.1\n",
      "-----\n",
      "PIL                 8.1.2\n",
      "anndata             0.7.5\n",
      "anyio               NA\n",
      "attr                20.3.0\n",
      "babel               2.9.0\n",
      "backcall            0.2.0\n",
      "brotli              NA\n",
      "cairo               1.20.0\n",
      "certifi             2020.12.05\n",
      "cffi                1.14.5\n",
      "chardet             4.0.0\n",
      "cloudpickle         1.6.0\n",
      "colorama            0.4.4\n",
      "cycler              0.10.0\n",
      "cython_runtime      NA\n",
      "cytoolz             0.11.0\n",
      "dask                2021.03.1\n",
      "dateutil            2.8.1\n",
      "decorator           4.4.2\n",
      "fsspec              0.8.7\n",
      "get_version         2.1\n",
      "google              NA\n",
      "h5py                3.1.0\n",
      "idna                2.10\n",
      "igraph              0.8.3\n",
      "ipykernel           5.5.0\n",
      "ipython_genutils    0.2.0\n",
      "ipywidgets          7.6.3\n",
      "jedi                0.18.0\n",
      "jinja2              2.11.3\n",
      "joblib              1.0.1\n",
      "json5               NA\n",
      "jsonschema          3.2.0\n",
      "jupyter_server      1.4.1\n",
      "jupyterlab_server   2.3.0\n",
      "kiwisolver          1.3.1\n",
      "legacy_api_wrap     0.0.0\n",
      "leidenalg           0.8.3\n",
      "llvmlite            0.34.0\n",
      "louvain             0.7.0\n",
      "markupsafe          1.1.1\n",
      "matplotlib          3.3.4\n",
      "mpl_toolkits        NA\n",
      "natsort             7.1.1\n",
      "nbclassic           NA\n",
      "nbformat            5.1.2\n",
      "numba               0.51.2\n",
      "numexpr             2.7.3\n",
      "numpy               1.20.1\n",
      "packaging           20.9\n",
      "pandas              1.2.3\n",
      "parso               0.8.1\n",
      "pexpect             4.8.0\n",
      "pickleshare         0.7.5\n",
      "pkg_resources       NA\n",
      "prometheus_client   NA\n",
      "prompt_toolkit      3.0.16\n",
      "psutil              5.8.0\n",
      "ptyprocess          0.7.0\n",
      "pvectorc            NA\n",
      "pyarrow             0.16.0\n",
      "pygments            2.8.0\n",
      "pyparsing           2.4.7\n",
      "pyrsistent          NA\n",
      "pytoml              NA\n",
      "pytz                2021.1\n",
      "requests            2.25.1\n",
      "ruamel              NA\n",
      "scanpy              1.7.1\n",
      "scipy               1.6.1\n",
      "seaborn             0.11.1\n",
      "send2trash          NA\n",
      "setuptools_scm      NA\n",
      "sinfo               0.3.1\n",
      "six                 1.15.0\n",
      "sklearn             0.24.1\n",
      "skmisc              0.1.4\n",
      "sniffio             1.2.0\n",
      "socks               1.7.1\n",
      "sphinxcontrib       NA\n",
      "statsmodels         0.12.2\n",
      "storemagic          NA\n",
      "tables              3.6.1\n",
      "tblib               1.7.0\n",
      "texttable           1.6.3\n",
      "tlz                 0.11.0\n",
      "toolz               0.11.1\n",
      "tornado             6.1\n",
      "traitlets           5.0.5\n",
      "typing_extensions   NA\n",
      "urllib3             1.26.3\n",
      "wcwidth             0.2.5\n",
      "yaml                5.3.1\n",
      "zmq                 22.0.3\n",
      "-----\n",
      "IPython             7.21.0\n",
      "jupyter_client      6.1.11\n",
      "jupyter_core        4.7.1\n",
      "jupyterlab          3.0.9\n",
      "notebook            6.2.0\n",
      "-----\n",
      "Python 3.8.8 | packaged by conda-forge | (default, Feb 20 2021, 16:22:27) [GCC 9.3.0]\n",
      "Linux-4.15.0-213-generic-x86_64-with-glibc2.10\n",
      "26 logical CPU cores, x86_64\n",
      "-----\n",
      "Session information updated at 2025-08-03 16:55\n",
      "\n"
     ]
    }
   ],
   "source": [
    "import numpy as np\n",
    "import pandas as pd\n",
    "import scanpy as sc\n",
    "import matplotlib.pyplot as plt\n",
    "import matplotlib\n",
    "import os\n",
    "import sys\n",
    "%matplotlib inline\n",
    "import seaborn as sns\n",
    "import seaborn as sb\n",
    "from glob import iglob\n",
    "import anndata\n",
    "import matplotlib as mpl\n",
    "import skmisc\n",
    "\n",
    "    \n",
    "sc.settings.verbosity = 1  # verbosity: errors (0), warnings (1), info (2), hints (3)\n",
    "sc.settings.figdir = '../results/'\n",
    "sc.logging.print_versions()\n",
    "sc.settings.set_figure_params(dpi=80)  # low dpi (dots per inch) yields small inline figures\n",
    "\n",
    "sys.executable\n",
    "\n",
    "\n",
    "fig_path= '../results/'"
   ]
  },
  {
   "cell_type": "code",
   "execution_count": null,
   "id": "seventh-russell",
   "metadata": {},
   "outputs": [],
   "source": []
  },
  {
   "cell_type": "markdown",
   "id": "characteristic-easter",
   "metadata": {},
   "source": [
    "### Reading data"
   ]
  },
  {
   "cell_type": "code",
   "execution_count": 5,
   "id": "disturbed-extension",
   "metadata": {},
   "outputs": [],
   "source": [
    "adata = sc.read('../data/rna1_counts_Tg_adata.h5ad')"
   ]
  },
  {
   "cell_type": "code",
   "execution_count": null,
   "id": "reasonable-robertson",
   "metadata": {},
   "outputs": [],
   "source": []
  },
  {
   "cell_type": "markdown",
   "id": "tropical-nashville",
   "metadata": {},
   "source": [
    "### Note: T. gondii == Tg | H. sapiends == Hs"
   ]
  },
  {
   "cell_type": "code",
   "execution_count": null,
   "id": "british-lithuania",
   "metadata": {},
   "outputs": [],
   "source": []
  },
  {
   "cell_type": "code",
   "execution_count": null,
   "id": "acquired-sharing",
   "metadata": {},
   "outputs": [],
   "source": []
  },
  {
   "cell_type": "markdown",
   "id": "diverse-active",
   "metadata": {},
   "source": [
    "## Preview of Toxoplasma gondii UMIs"
   ]
  },
  {
   "cell_type": "markdown",
   "id": "piano-theater",
   "metadata": {},
   "source": [
    "Looking at the human and Tg genes.\n",
    "\n",
    "All the Tg genes have the preffix \"TGGT1\" "
   ]
  },
  {
   "cell_type": "code",
   "execution_count": 6,
   "id": "split-rainbow",
   "metadata": {},
   "outputs": [
    {
     "data": {
      "text/html": [
       "<div>\n",
       "<style scoped>\n",
       "    .dataframe tbody tr th:only-of-type {\n",
       "        vertical-align: middle;\n",
       "    }\n",
       "\n",
       "    .dataframe tbody tr th {\n",
       "        vertical-align: top;\n",
       "    }\n",
       "\n",
       "    .dataframe thead th {\n",
       "        text-align: right;\n",
       "    }\n",
       "</style>\n",
       "<table border=\"1\" class=\"dataframe\">\n",
       "  <thead>\n",
       "    <tr style=\"text-align: right;\">\n",
       "      <th></th>\n",
       "      <th>gene_ids</th>\n",
       "      <th>feature_types</th>\n",
       "      <th>mean</th>\n",
       "      <th>std</th>\n",
       "    </tr>\n",
       "  </thead>\n",
       "  <tbody>\n",
       "    <tr>\n",
       "      <th>MIR1302-2HG</th>\n",
       "      <td>ENSG00000243485</td>\n",
       "      <td>Gene Expression</td>\n",
       "      <td>0.000065</td>\n",
       "      <td>0.005988</td>\n",
       "    </tr>\n",
       "    <tr>\n",
       "      <th>FAM138A</th>\n",
       "      <td>ENSG00000237613</td>\n",
       "      <td>Gene Expression</td>\n",
       "      <td>0.000003</td>\n",
       "      <td>0.000696</td>\n",
       "    </tr>\n",
       "    <tr>\n",
       "      <th>OR4F5</th>\n",
       "      <td>ENSG00000186092</td>\n",
       "      <td>Gene Expression</td>\n",
       "      <td>0.000000</td>\n",
       "      <td>1.000000</td>\n",
       "    </tr>\n",
       "    <tr>\n",
       "      <th>AL627309.1</th>\n",
       "      <td>ENSG00000238009</td>\n",
       "      <td>Gene Expression</td>\n",
       "      <td>0.007629</td>\n",
       "      <td>0.068289</td>\n",
       "    </tr>\n",
       "    <tr>\n",
       "      <th>AL627309.3</th>\n",
       "      <td>ENSG00000239945</td>\n",
       "      <td>Gene Expression</td>\n",
       "      <td>0.000000</td>\n",
       "      <td>1.000000</td>\n",
       "    </tr>\n",
       "  </tbody>\n",
       "</table>\n",
       "</div>"
      ],
      "text/plain": [
       "                    gene_ids    feature_types      mean       std\n",
       "MIR1302-2HG  ENSG00000243485  Gene Expression  0.000065  0.005988\n",
       "FAM138A      ENSG00000237613  Gene Expression  0.000003  0.000696\n",
       "OR4F5        ENSG00000186092  Gene Expression  0.000000  1.000000\n",
       "AL627309.1   ENSG00000238009  Gene Expression  0.007629  0.068289\n",
       "AL627309.3   ENSG00000239945  Gene Expression  0.000000  1.000000"
      ]
     },
     "execution_count": 6,
     "metadata": {},
     "output_type": "execute_result"
    }
   ],
   "source": [
    "adata.var.head()"
   ]
  },
  {
   "cell_type": "code",
   "execution_count": 7,
   "id": "alpine-marijuana",
   "metadata": {},
   "outputs": [
    {
     "data": {
      "text/html": [
       "<div>\n",
       "<style scoped>\n",
       "    .dataframe tbody tr th:only-of-type {\n",
       "        vertical-align: middle;\n",
       "    }\n",
       "\n",
       "    .dataframe tbody tr th {\n",
       "        vertical-align: top;\n",
       "    }\n",
       "\n",
       "    .dataframe thead th {\n",
       "        text-align: right;\n",
       "    }\n",
       "</style>\n",
       "<table border=\"1\" class=\"dataframe\">\n",
       "  <thead>\n",
       "    <tr style=\"text-align: right;\">\n",
       "      <th></th>\n",
       "      <th>gene_ids</th>\n",
       "      <th>feature_types</th>\n",
       "      <th>mean</th>\n",
       "      <th>std</th>\n",
       "    </tr>\n",
       "  </thead>\n",
       "  <tbody>\n",
       "    <tr>\n",
       "      <th>TGGT1_412230</th>\n",
       "      <td>TGGT1_412230</td>\n",
       "      <td>Gene Expression</td>\n",
       "      <td>0.0</td>\n",
       "      <td>1.0</td>\n",
       "    </tr>\n",
       "    <tr>\n",
       "      <th>TGGT1_412240</th>\n",
       "      <td>TGGT1_412240</td>\n",
       "      <td>Gene Expression</td>\n",
       "      <td>0.0</td>\n",
       "      <td>1.0</td>\n",
       "    </tr>\n",
       "    <tr>\n",
       "      <th>TGGT1_412250</th>\n",
       "      <td>TGGT1_412250</td>\n",
       "      <td>Gene Expression</td>\n",
       "      <td>0.0</td>\n",
       "      <td>1.0</td>\n",
       "    </tr>\n",
       "    <tr>\n",
       "      <th>TGGT1_412260</th>\n",
       "      <td>TGGT1_412260</td>\n",
       "      <td>Gene Expression</td>\n",
       "      <td>0.0</td>\n",
       "      <td>1.0</td>\n",
       "    </tr>\n",
       "    <tr>\n",
       "      <th>TGGT1_300641</th>\n",
       "      <td>TGGT1_300641</td>\n",
       "      <td>Gene Expression</td>\n",
       "      <td>0.0</td>\n",
       "      <td>1.0</td>\n",
       "    </tr>\n",
       "  </tbody>\n",
       "</table>\n",
       "</div>"
      ],
      "text/plain": [
       "                  gene_ids    feature_types  mean  std\n",
       "TGGT1_412230  TGGT1_412230  Gene Expression   0.0  1.0\n",
       "TGGT1_412240  TGGT1_412240  Gene Expression   0.0  1.0\n",
       "TGGT1_412250  TGGT1_412250  Gene Expression   0.0  1.0\n",
       "TGGT1_412260  TGGT1_412260  Gene Expression   0.0  1.0\n",
       "TGGT1_300641  TGGT1_300641  Gene Expression   0.0  1.0"
      ]
     },
     "execution_count": 7,
     "metadata": {},
     "output_type": "execute_result"
    }
   ],
   "source": [
    "adata.var.tail()"
   ]
  },
  {
   "cell_type": "code",
   "execution_count": null,
   "id": "previous-hardwood",
   "metadata": {},
   "outputs": [],
   "source": []
  },
  {
   "cell_type": "code",
   "execution_count": 8,
   "id": "beautiful-ministry",
   "metadata": {},
   "outputs": [
    {
     "name": "stdout",
     "output_type": "stream",
     "text": [
      "8637\n"
     ]
    }
   ],
   "source": [
    "## Selecting the names of the Tg genes only\n",
    "tg= adata.var.index.str.contains('TGGT1')\n",
    "print(sum(tg))"
   ]
  },
  {
   "cell_type": "code",
   "execution_count": 51,
   "id": "cooperative-fortune",
   "metadata": {},
   "outputs": [
    {
     "data": {
      "text/plain": [
       "AnnData object with n_obs × n_vars = 125463 × 45238\n",
       "    obs: 'sample', 'stage', 'donor', 'hpi', 'infection', 'percent_mito', 'n_counts', 'batch', 'sample_barcode', 'assignment_SoC', 'donor_id', 'scrublet_score', 'scrublet_cluster_score', 'zscore', 'bh_pval', 'bonf_pval', 'is_doublet', 'infection_stage', 'S_score', 'G2M_score', 'phase'\n",
       "    var: 'gene_ids', 'feature_types', 'mean', 'std'\n",
       "    uns: 'log1p'\n",
       "    layers: 'raw_counts'"
      ]
     },
     "execution_count": 51,
     "metadata": {},
     "output_type": "execute_result"
    }
   ],
   "source": [
    "adata"
   ]
  },
  {
   "cell_type": "code",
   "execution_count": null,
   "id": "genuine-success",
   "metadata": {},
   "outputs": [],
   "source": []
  },
  {
   "cell_type": "markdown",
   "id": "loving-lyric",
   "metadata": {},
   "source": [
    "#### Giving a flag to differentiate human and T. gondii genes in my data set. Preview of counts"
   ]
  },
  {
   "cell_type": "code",
   "execution_count": 11,
   "id": "israeli-delight",
   "metadata": {},
   "outputs": [],
   "source": [
    "## Giving a flag to differentiate human and Tg genes in my data set\n",
    "##\n",
    "adata.var['hs'] = adata.var.gene_ids.str.startswith('ENSG') ## all human genes\n",
    "adata.var['tg'] = adata.var.gene_ids.str.startswith('TGGT1') ## all toxoplasma genes\n",
    "\n",
    "\n",
    "## Calculating the metrics per cell in my data.\n",
    "sc.pp.calculate_qc_metrics(adata, qc_vars=['hs'], percent_top=None, log1p=False, inplace=True)\n",
    "sc.pp.calculate_qc_metrics(adata, qc_vars=['tg'], percent_top=None, log1p=False, inplace=True)"
   ]
  },
  {
   "cell_type": "code",
   "execution_count": 12,
   "id": "foster-cuisine",
   "metadata": {},
   "outputs": [
    {
     "data": {
      "text/html": [
       "<div>\n",
       "<style scoped>\n",
       "    .dataframe tbody tr th:only-of-type {\n",
       "        vertical-align: middle;\n",
       "    }\n",
       "\n",
       "    .dataframe tbody tr th {\n",
       "        vertical-align: top;\n",
       "    }\n",
       "\n",
       "    .dataframe thead th {\n",
       "        text-align: right;\n",
       "    }\n",
       "</style>\n",
       "<table border=\"1\" class=\"dataframe\">\n",
       "  <thead>\n",
       "    <tr style=\"text-align: right;\">\n",
       "      <th></th>\n",
       "      <th>gene_ids</th>\n",
       "      <th>feature_types</th>\n",
       "      <th>mean</th>\n",
       "      <th>std</th>\n",
       "      <th>hs</th>\n",
       "      <th>tg</th>\n",
       "      <th>n_cells_by_counts</th>\n",
       "      <th>mean_counts</th>\n",
       "      <th>pct_dropout_by_counts</th>\n",
       "      <th>total_counts</th>\n",
       "    </tr>\n",
       "  </thead>\n",
       "  <tbody>\n",
       "    <tr>\n",
       "      <th>MIR1302-2HG</th>\n",
       "      <td>ENSG00000243485</td>\n",
       "      <td>Gene Expression</td>\n",
       "      <td>0.000065</td>\n",
       "      <td>0.005988</td>\n",
       "      <td>True</td>\n",
       "      <td>False</td>\n",
       "      <td>11</td>\n",
       "      <td>0.000162</td>\n",
       "      <td>99.983779</td>\n",
       "      <td>11.0</td>\n",
       "    </tr>\n",
       "    <tr>\n",
       "      <th>FAM138A</th>\n",
       "      <td>ENSG00000237613</td>\n",
       "      <td>Gene Expression</td>\n",
       "      <td>0.000003</td>\n",
       "      <td>0.000696</td>\n",
       "      <td>True</td>\n",
       "      <td>False</td>\n",
       "      <td>1</td>\n",
       "      <td>0.000015</td>\n",
       "      <td>99.998525</td>\n",
       "      <td>1.0</td>\n",
       "    </tr>\n",
       "    <tr>\n",
       "      <th>OR4F5</th>\n",
       "      <td>ENSG00000186092</td>\n",
       "      <td>Gene Expression</td>\n",
       "      <td>0.000000</td>\n",
       "      <td>1.000000</td>\n",
       "      <td>True</td>\n",
       "      <td>False</td>\n",
       "      <td>0</td>\n",
       "      <td>0.000000</td>\n",
       "      <td>100.000000</td>\n",
       "      <td>0.0</td>\n",
       "    </tr>\n",
       "    <tr>\n",
       "      <th>AL627309.1</th>\n",
       "      <td>ENSG00000238009</td>\n",
       "      <td>Gene Expression</td>\n",
       "      <td>0.007629</td>\n",
       "      <td>0.068289</td>\n",
       "      <td>True</td>\n",
       "      <td>False</td>\n",
       "      <td>1169</td>\n",
       "      <td>0.018123</td>\n",
       "      <td>98.276167</td>\n",
       "      <td>1229.0</td>\n",
       "    </tr>\n",
       "    <tr>\n",
       "      <th>AL627309.3</th>\n",
       "      <td>ENSG00000239945</td>\n",
       "      <td>Gene Expression</td>\n",
       "      <td>0.000000</td>\n",
       "      <td>1.000000</td>\n",
       "      <td>True</td>\n",
       "      <td>False</td>\n",
       "      <td>0</td>\n",
       "      <td>0.000000</td>\n",
       "      <td>100.000000</td>\n",
       "      <td>0.0</td>\n",
       "    </tr>\n",
       "  </tbody>\n",
       "</table>\n",
       "</div>"
      ],
      "text/plain": [
       "                    gene_ids    feature_types      mean       std    hs  \\\n",
       "MIR1302-2HG  ENSG00000243485  Gene Expression  0.000065  0.005988  True   \n",
       "FAM138A      ENSG00000237613  Gene Expression  0.000003  0.000696  True   \n",
       "OR4F5        ENSG00000186092  Gene Expression  0.000000  1.000000  True   \n",
       "AL627309.1   ENSG00000238009  Gene Expression  0.007629  0.068289  True   \n",
       "AL627309.3   ENSG00000239945  Gene Expression  0.000000  1.000000  True   \n",
       "\n",
       "                tg  n_cells_by_counts  mean_counts  pct_dropout_by_counts  \\\n",
       "MIR1302-2HG  False                 11     0.000162              99.983779   \n",
       "FAM138A      False                  1     0.000015              99.998525   \n",
       "OR4F5        False                  0     0.000000             100.000000   \n",
       "AL627309.1   False               1169     0.018123              98.276167   \n",
       "AL627309.3   False                  0     0.000000             100.000000   \n",
       "\n",
       "             total_counts  \n",
       "MIR1302-2HG          11.0  \n",
       "FAM138A               1.0  \n",
       "OR4F5                 0.0  \n",
       "AL627309.1         1229.0  \n",
       "AL627309.3            0.0  "
      ]
     },
     "execution_count": 12,
     "metadata": {},
     "output_type": "execute_result"
    }
   ],
   "source": [
    "## Look at the hs and tg columns\n",
    "adata.var.head()"
   ]
  },
  {
   "cell_type": "code",
   "execution_count": null,
   "id": "right-charger",
   "metadata": {},
   "outputs": [],
   "source": []
  },
  {
   "cell_type": "markdown",
   "id": "dense-richmond",
   "metadata": {},
   "source": [
    "#### Checking the distribution of the number of genes from Hs and Tg"
   ]
  },
  {
   "cell_type": "code",
   "execution_count": 15,
   "id": "appropriate-detroit",
   "metadata": {},
   "outputs": [
    {
     "name": "stderr",
     "output_type": "stream",
     "text": [
      "WARNING: saving figure to file ../results/scatter_HsTgCounts.pdf\n"
     ]
    },
    {
     "data": {
      "image/png": "[encoded data removed]",
      "text/plain": [
       "<Figure size 417.2x320 with 1 Axes>"
      ]
     },
     "metadata": {
      "needs_background": "light"
     },
     "output_type": "display_data"
    },
    {
     "name": "stderr",
     "output_type": "stream",
     "text": [
      "WARNING: saving figure to file ../results/scatter_TotalvsTg.pdf\n"
     ]
    },
    {
     "data": {
      "image/png": "[encoded data removed]",
      "text/plain": [
       "<Figure size 417.2x320 with 1 Axes>"
      ]
     },
     "metadata": {
      "needs_background": "light"
     },
     "output_type": "display_data"
    },
    {
     "name": "stderr",
     "output_type": "stream",
     "text": [
      "WARNING: saving figure to file ../results/scatter_TotalvsHs.pdf\n"
     ]
    },
    {
     "data": {
      "image/png": "[encoded data removed]",
      "text/plain": [
       "<Figure size 417.2x320 with 1 Axes>"
      ]
     },
     "metadata": {
      "needs_background": "light"
     },
     "output_type": "display_data"
    }
   ],
   "source": [
    "sc.pl.scatter(adata, x='total_counts_tg', y='total_counts_hs',  color=\"infection\",size=50, save='_HsTgCounts.pdf')\n",
    "sc.pl.scatter(adata, x='pct_counts_tg', y='total_counts', color=\"infection\", size=30, save='_TotalvsTg.pdf')\n",
    "sc.pl.scatter(adata, x='pct_counts_hs', y='total_counts', color=\"infection\", size=30, save='_TotalvsHs.pdf')"
   ]
  },
  {
   "cell_type": "code",
   "execution_count": 16,
   "id": "offensive-correction",
   "metadata": {},
   "outputs": [
    {
     "name": "stderr",
     "output_type": "stream",
     "text": [
      "WARNING: saving figure to file ../results/scatter_TgvsHs.pdf\n"
     ]
    },
    {
     "data": {
      "image/png": "[encoded data removed]",
      "text/plain": [
       "<Figure size 417.2x320 with 1 Axes>"
      ]
     },
     "metadata": {
      "needs_background": "light"
     },
     "output_type": "display_data"
    }
   ],
   "source": [
    "sc.pl.scatter(adata, x='pct_counts_tg', y='total_counts_hs', color=\"infection\", size=30, save='_TgvsHs.pdf')"
   ]
  },
  {
   "cell_type": "code",
   "execution_count": 17,
   "id": "constitutional-elizabeth",
   "metadata": {},
   "outputs": [
    {
     "name": "stdout",
     "output_type": "stream",
     "text": [
      "Total number of cells: 67814\n"
     ]
    }
   ],
   "source": [
    "print('Total number of cells: {:d}'.format(adata.n_obs))"
   ]
  },
  {
   "cell_type": "code",
   "execution_count": 18,
   "id": "confident-hierarchy",
   "metadata": {},
   "outputs": [
    {
     "data": {
      "text/html": [
       "<div>\n",
       "<style scoped>\n",
       "    .dataframe tbody tr th:only-of-type {\n",
       "        vertical-align: middle;\n",
       "    }\n",
       "\n",
       "    .dataframe tbody tr th {\n",
       "        vertical-align: top;\n",
       "    }\n",
       "\n",
       "    .dataframe thead th {\n",
       "        text-align: right;\n",
       "    }\n",
       "</style>\n",
       "<table border=\"1\" class=\"dataframe\">\n",
       "  <thead>\n",
       "    <tr style=\"text-align: right;\">\n",
       "      <th></th>\n",
       "      <th>counts</th>\n",
       "      <th>freqs</th>\n",
       "    </tr>\n",
       "    <tr>\n",
       "      <th>categories</th>\n",
       "      <th></th>\n",
       "      <th></th>\n",
       "    </tr>\n",
       "  </thead>\n",
       "  <tbody>\n",
       "    <tr>\n",
       "      <th>Pla_HDBR13007974</th>\n",
       "      <td>16274</td>\n",
       "      <td>0.239980</td>\n",
       "    </tr>\n",
       "    <tr>\n",
       "      <th>Pla_HDBR13007975</th>\n",
       "      <td>17962</td>\n",
       "      <td>0.264872</td>\n",
       "    </tr>\n",
       "    <tr>\n",
       "      <th>Pla_HDBR13798223</th>\n",
       "      <td>16936</td>\n",
       "      <td>0.249742</td>\n",
       "    </tr>\n",
       "    <tr>\n",
       "      <th>Pla_HDBR13798224</th>\n",
       "      <td>16642</td>\n",
       "      <td>0.245407</td>\n",
       "    </tr>\n",
       "  </tbody>\n",
       "</table>\n",
       "</div>"
      ],
      "text/plain": [
       "                  counts     freqs\n",
       "categories                        \n",
       "Pla_HDBR13007974   16274  0.239980\n",
       "Pla_HDBR13007975   17962  0.264872\n",
       "Pla_HDBR13798223   16936  0.249742\n",
       "Pla_HDBR13798224   16642  0.245407"
      ]
     },
     "execution_count": 18,
     "metadata": {},
     "output_type": "execute_result"
    }
   ],
   "source": [
    "adata.obs['sample'].values.describe()"
   ]
  },
  {
   "cell_type": "code",
   "execution_count": null,
   "id": "configured-pound",
   "metadata": {},
   "outputs": [],
   "source": []
  },
  {
   "cell_type": "markdown",
   "id": "artificial-digest",
   "metadata": {},
   "source": [
    "#### Checking if cells from uninfected samples have random (or not) counts from *T. gondii*"
   ]
  },
  {
   "cell_type": "code",
   "execution_count": 19,
   "id": "certified-cooler",
   "metadata": {},
   "outputs": [
    {
     "data": {
      "text/plain": [
       "319"
      ]
     },
     "execution_count": 19,
     "metadata": {},
     "output_type": "execute_result"
    }
   ],
   "source": [
    "# percentage in a droplet has mostly human genes\n",
    "#cells with more than 10% of Tg counts\n",
    "sum(adata.obs.pct_counts_tg > 10)"
   ]
  },
  {
   "cell_type": "code",
   "execution_count": 31,
   "id": "mature-clarity",
   "metadata": {},
   "outputs": [
    {
     "name": "stdout",
     "output_type": "stream",
     "text": [
      "Total cells from Uninfected explants: 33210\n",
      "Uninfected cells with Tg counts >0%: 91\n",
      "Uninfected cells with Tg counts >0.18%: 0\n",
      "Uninfected cells with Tg counts >1%: 0\n"
     ]
    },
    {
     "name": "stderr",
     "output_type": "stream",
     "text": [
      "/opt/conda/lib/python3.8/site-packages/pandas/core/arrays/categorical.py:2487: FutureWarning: The `inplace` parameter in pandas.Categorical.remove_unused_categories is deprecated and will be removed in a future version.\n",
      "  res = method(*args, **kwargs)\n"
     ]
    }
   ],
   "source": [
    "## Uninfected:\n",
    "# cells with more than 0% of Tg counts\n",
    "\n",
    "nCells_infectedSamples=adata[adata.obs['infection'] == 'UI'].n_obs\n",
    "print('Total cells from Uninfected explants: {:d}'.format(nCells_infectedSamples))\n",
    "\n",
    "adata_temp= adata[adata.obs['infection'] == 'UI']\n",
    "print('Uninfected cells with Tg counts >0%: {:d}'.format(sum(adata_temp.obs.pct_counts_tg > 0)))\n",
    "print('Uninfected cells with Tg counts >0.18%: {:d}'.format(sum(adata_temp.obs.pct_counts_tg > 0.18)))\n",
    "print('Uninfected cells with Tg counts >1%: {:d}'.format(sum(adata_temp.obs.pct_counts_tg > 1)))"
   ]
  },
  {
   "cell_type": "code",
   "execution_count": null,
   "id": "relative-radical",
   "metadata": {},
   "outputs": [],
   "source": []
  },
  {
   "cell_type": "markdown",
   "id": "focused-dispute",
   "metadata": {},
   "source": [
    "#### Note:\n",
    "\n",
    "There are 91 uninfected cells with >0% of Tg counts. However, none of the cells from uninfected samples have >0.18% of Tg counts. I will set this value as the value of Tg counts expected by chance, this will be my threshold to decide which cells are infected or not"
   ]
  },
  {
   "cell_type": "code",
   "execution_count": null,
   "id": "level-history",
   "metadata": {},
   "outputs": [],
   "source": []
  },
  {
   "cell_type": "markdown",
   "id": "bigger-collaboration",
   "metadata": {},
   "source": [
    "#### Checking the same in cells from infected samples"
   ]
  },
  {
   "cell_type": "code",
   "execution_count": 20,
   "id": "referenced-ukraine",
   "metadata": {},
   "outputs": [
    {
     "name": "stdout",
     "output_type": "stream",
     "text": [
      "Total cells from infected explants: 34604\n",
      "Infected cells with Tg counts >0%: 4745\n",
      "Infected cells with Tg counts >0.18%: 1033\n",
      "Infected cells with Tg counts >1%: 762\n"
     ]
    },
    {
     "name": "stderr",
     "output_type": "stream",
     "text": [
      "/opt/conda/lib/python3.8/site-packages/pandas/core/arrays/categorical.py:2487: FutureWarning: The `inplace` parameter in pandas.Categorical.remove_unused_categories is deprecated and will be removed in a future version.\n",
      "  res = method(*args, **kwargs)\n"
     ]
    }
   ],
   "source": [
    "## Infected explants\n",
    "#cells with more than 0% of Tg counts\n",
    "\n",
    "nCells_infectedSamples=adata[adata.obs['infection'] == 'Tg'].n_obs\n",
    "print('Total cells from infected explants: {:d}'.format(nCells_infectedSamples))\n",
    "\n",
    "adata_temp= adata[adata.obs['infection'] == 'Tg']\n",
    "print('Infected cells with Tg counts >0%: {:d}'.format(sum(adata_temp.obs.pct_counts_tg > 0)))\n",
    "print('Infected cells with Tg counts >0.18%: {:d}'.format(sum(adata_temp.obs.pct_counts_tg > 0.18)))\n",
    "print('Infected cells with Tg counts >1%: {:d}'.format(sum(adata_temp.obs.pct_counts_tg > 1)))"
   ]
  },
  {
   "cell_type": "code",
   "execution_count": null,
   "id": "centered-anniversary",
   "metadata": {},
   "outputs": [],
   "source": []
  },
  {
   "cell_type": "markdown",
   "id": "swiss-activity",
   "metadata": {},
   "source": [
    "#### Q3: What is the maximum percentage of *T. gondii* reads observed by chance in uninfected samples?"
   ]
  },
  {
   "cell_type": "code",
   "execution_count": 35,
   "id": "verbal-district",
   "metadata": {},
   "outputs": [
    {
     "name": "stdout",
     "output_type": "stream",
     "text": [
      "The maximum % of Tg counts in cells from uninfected samples is: 0.18%\n"
     ]
    }
   ],
   "source": [
    "print('The maximum % of Tg counts in cells from uninfected samples is: 0.18%')"
   ]
  },
  {
   "cell_type": "code",
   "execution_count": null,
   "id": "traditional-sperm",
   "metadata": {},
   "outputs": [],
   "source": []
  },
  {
   "cell_type": "markdown",
   "id": "natural-valuation",
   "metadata": {},
   "source": [
    "### Adding a flag to the metadata indicating if a cell is infected or not\n",
    "\n",
    "The criteria is to have a % of Tg counts >0.18"
   ]
  },
  {
   "cell_type": "code",
   "execution_count": 45,
   "id": "grand-brown",
   "metadata": {},
   "outputs": [],
   "source": [
    "#Selecting the cells with %Tg>0\n",
    "temp=adata.obs.pct_counts_tg > 0.18\n",
    "\n",
    "#Adding a new column with the flag in it. Boolean.\n",
    "adata.obs['Tg_infected']= temp"
   ]
  },
  {
   "cell_type": "code",
   "execution_count": 47,
   "id": "featured-funeral",
   "metadata": {},
   "outputs": [
    {
     "data": {
      "text/html": [
       "<div>\n",
       "<style scoped>\n",
       "    .dataframe tbody tr th:only-of-type {\n",
       "        vertical-align: middle;\n",
       "    }\n",
       "\n",
       "    .dataframe tbody tr th {\n",
       "        vertical-align: top;\n",
       "    }\n",
       "\n",
       "    .dataframe thead th {\n",
       "        text-align: right;\n",
       "    }\n",
       "</style>\n",
       "<table border=\"1\" class=\"dataframe\">\n",
       "  <thead>\n",
       "    <tr style=\"text-align: right;\">\n",
       "      <th></th>\n",
       "      <th>sample</th>\n",
       "      <th>stage</th>\n",
       "      <th>donor</th>\n",
       "      <th>hpi</th>\n",
       "      <th>infection</th>\n",
       "      <th>percent_mito</th>\n",
       "      <th>n_counts</th>\n",
       "      <th>batch</th>\n",
       "      <th>scrublet_score</th>\n",
       "      <th>scrublet_cluster_score</th>\n",
       "      <th>...</th>\n",
       "      <th>S_score</th>\n",
       "      <th>G2M_score</th>\n",
       "      <th>phase</th>\n",
       "      <th>n_genes_by_counts</th>\n",
       "      <th>total_counts</th>\n",
       "      <th>total_counts_hs</th>\n",
       "      <th>pct_counts_hs</th>\n",
       "      <th>total_counts_tg</th>\n",
       "      <th>pct_counts_tg</th>\n",
       "      <th>Tg_infected</th>\n",
       "    </tr>\n",
       "  </thead>\n",
       "  <tbody>\n",
       "    <tr>\n",
       "      <th>Pla_HDBR13007975_AAACGAATCTCCGAGG</th>\n",
       "      <td>Pla_HDBR13007975</td>\n",
       "      <td>Tg_24h</td>\n",
       "      <td>Hrv171_Hrv172</td>\n",
       "      <td>24h</td>\n",
       "      <td>Tg</td>\n",
       "      <td>0.100336</td>\n",
       "      <td>2681.0</td>\n",
       "      <td>1</td>\n",
       "      <td>0.149024</td>\n",
       "      <td>0.068093</td>\n",
       "      <td>...</td>\n",
       "      <td>-0.057623</td>\n",
       "      <td>0.047559</td>\n",
       "      <td>G2M</td>\n",
       "      <td>1580</td>\n",
       "      <td>2681.0</td>\n",
       "      <td>2645.0</td>\n",
       "      <td>98.657211</td>\n",
       "      <td>36.0</td>\n",
       "      <td>1.342783</td>\n",
       "      <td>True</td>\n",
       "    </tr>\n",
       "    <tr>\n",
       "      <th>Pla_HDBR13007975_AAAGGATCAGTTAGGG</th>\n",
       "      <td>Pla_HDBR13007975</td>\n",
       "      <td>Tg_24h</td>\n",
       "      <td>Hrv171_Hrv172</td>\n",
       "      <td>24h</td>\n",
       "      <td>Tg</td>\n",
       "      <td>0.023619</td>\n",
       "      <td>11643.0</td>\n",
       "      <td>1</td>\n",
       "      <td>0.103614</td>\n",
       "      <td>0.087618</td>\n",
       "      <td>...</td>\n",
       "      <td>0.522926</td>\n",
       "      <td>-0.212491</td>\n",
       "      <td>S</td>\n",
       "      <td>3401</td>\n",
       "      <td>11643.0</td>\n",
       "      <td>9508.0</td>\n",
       "      <td>81.662804</td>\n",
       "      <td>2135.0</td>\n",
       "      <td>18.337198</td>\n",
       "      <td>True</td>\n",
       "    </tr>\n",
       "    <tr>\n",
       "      <th>Pla_HDBR13007975_AAAGTGAAGCACTAGG</th>\n",
       "      <td>Pla_HDBR13007975</td>\n",
       "      <td>Tg_24h</td>\n",
       "      <td>Hrv171_Hrv172</td>\n",
       "      <td>24h</td>\n",
       "      <td>Tg</td>\n",
       "      <td>0.068762</td>\n",
       "      <td>44981.0</td>\n",
       "      <td>1</td>\n",
       "      <td>0.476190</td>\n",
       "      <td>0.063521</td>\n",
       "      <td>...</td>\n",
       "      <td>-0.006966</td>\n",
       "      <td>-0.068845</td>\n",
       "      <td>G1</td>\n",
       "      <td>7121</td>\n",
       "      <td>44981.0</td>\n",
       "      <td>44839.0</td>\n",
       "      <td>99.684311</td>\n",
       "      <td>142.0</td>\n",
       "      <td>0.315689</td>\n",
       "      <td>True</td>\n",
       "    </tr>\n",
       "    <tr>\n",
       "      <th>Pla_HDBR13007975_AAATGGACAGATTAAG</th>\n",
       "      <td>Pla_HDBR13007975</td>\n",
       "      <td>Tg_24h</td>\n",
       "      <td>Hrv171_Hrv172</td>\n",
       "      <td>24h</td>\n",
       "      <td>Tg</td>\n",
       "      <td>0.031498</td>\n",
       "      <td>39113.0</td>\n",
       "      <td>1</td>\n",
       "      <td>0.063521</td>\n",
       "      <td>0.135447</td>\n",
       "      <td>...</td>\n",
       "      <td>-0.083740</td>\n",
       "      <td>-0.202879</td>\n",
       "      <td>G1</td>\n",
       "      <td>6407</td>\n",
       "      <td>39113.0</td>\n",
       "      <td>38911.0</td>\n",
       "      <td>99.483551</td>\n",
       "      <td>202.0</td>\n",
       "      <td>0.516452</td>\n",
       "      <td>True</td>\n",
       "    </tr>\n",
       "    <tr>\n",
       "      <th>Pla_HDBR13007975_AACAGGGCAGCTGAGA</th>\n",
       "      <td>Pla_HDBR13007975</td>\n",
       "      <td>Tg_24h</td>\n",
       "      <td>Hrv171_Hrv172</td>\n",
       "      <td>24h</td>\n",
       "      <td>Tg</td>\n",
       "      <td>0.020213</td>\n",
       "      <td>4700.0</td>\n",
       "      <td>1</td>\n",
       "      <td>0.099296</td>\n",
       "      <td>0.123535</td>\n",
       "      <td>...</td>\n",
       "      <td>-0.226769</td>\n",
       "      <td>-0.278997</td>\n",
       "      <td>G1</td>\n",
       "      <td>2051</td>\n",
       "      <td>4700.0</td>\n",
       "      <td>4356.0</td>\n",
       "      <td>92.680855</td>\n",
       "      <td>344.0</td>\n",
       "      <td>7.319149</td>\n",
       "      <td>True</td>\n",
       "    </tr>\n",
       "  </tbody>\n",
       "</table>\n",
       "<p>5 rows × 25 columns</p>\n",
       "</div>"
      ],
      "text/plain": [
       "                                             sample   stage          donor  \\\n",
       "Pla_HDBR13007975_AAACGAATCTCCGAGG  Pla_HDBR13007975  Tg_24h  Hrv171_Hrv172   \n",
       "Pla_HDBR13007975_AAAGGATCAGTTAGGG  Pla_HDBR13007975  Tg_24h  Hrv171_Hrv172   \n",
       "Pla_HDBR13007975_AAAGTGAAGCACTAGG  Pla_HDBR13007975  Tg_24h  Hrv171_Hrv172   \n",
       "Pla_HDBR13007975_AAATGGACAGATTAAG  Pla_HDBR13007975  Tg_24h  Hrv171_Hrv172   \n",
       "Pla_HDBR13007975_AACAGGGCAGCTGAGA  Pla_HDBR13007975  Tg_24h  Hrv171_Hrv172   \n",
       "\n",
       "                                   hpi infection  percent_mito  n_counts  \\\n",
       "Pla_HDBR13007975_AAACGAATCTCCGAGG  24h        Tg      0.100336    2681.0   \n",
       "Pla_HDBR13007975_AAAGGATCAGTTAGGG  24h        Tg      0.023619   11643.0   \n",
       "Pla_HDBR13007975_AAAGTGAAGCACTAGG  24h        Tg      0.068762   44981.0   \n",
       "Pla_HDBR13007975_AAATGGACAGATTAAG  24h        Tg      0.031498   39113.0   \n",
       "Pla_HDBR13007975_AACAGGGCAGCTGAGA  24h        Tg      0.020213    4700.0   \n",
       "\n",
       "                                  batch  scrublet_score  \\\n",
       "Pla_HDBR13007975_AAACGAATCTCCGAGG     1        0.149024   \n",
       "Pla_HDBR13007975_AAAGGATCAGTTAGGG     1        0.103614   \n",
       "Pla_HDBR13007975_AAAGTGAAGCACTAGG     1        0.476190   \n",
       "Pla_HDBR13007975_AAATGGACAGATTAAG     1        0.063521   \n",
       "Pla_HDBR13007975_AACAGGGCAGCTGAGA     1        0.099296   \n",
       "\n",
       "                                   scrublet_cluster_score  ...   S_score  \\\n",
       "Pla_HDBR13007975_AAACGAATCTCCGAGG                0.068093  ... -0.057623   \n",
       "Pla_HDBR13007975_AAAGGATCAGTTAGGG                0.087618  ...  0.522926   \n",
       "Pla_HDBR13007975_AAAGTGAAGCACTAGG                0.063521  ... -0.006966   \n",
       "Pla_HDBR13007975_AAATGGACAGATTAAG                0.135447  ... -0.083740   \n",
       "Pla_HDBR13007975_AACAGGGCAGCTGAGA                0.123535  ... -0.226769   \n",
       "\n",
       "                                   G2M_score  phase  n_genes_by_counts  \\\n",
       "Pla_HDBR13007975_AAACGAATCTCCGAGG   0.047559    G2M               1580   \n",
       "Pla_HDBR13007975_AAAGGATCAGTTAGGG  -0.212491      S               3401   \n",
       "Pla_HDBR13007975_AAAGTGAAGCACTAGG  -0.068845     G1               7121   \n",
       "Pla_HDBR13007975_AAATGGACAGATTAAG  -0.202879     G1               6407   \n",
       "Pla_HDBR13007975_AACAGGGCAGCTGAGA  -0.278997     G1               2051   \n",
       "\n",
       "                                  total_counts  total_counts_hs  \\\n",
       "Pla_HDBR13007975_AAACGAATCTCCGAGG       2681.0           2645.0   \n",
       "Pla_HDBR13007975_AAAGGATCAGTTAGGG      11643.0           9508.0   \n",
       "Pla_HDBR13007975_AAAGTGAAGCACTAGG      44981.0          44839.0   \n",
       "Pla_HDBR13007975_AAATGGACAGATTAAG      39113.0          38911.0   \n",
       "Pla_HDBR13007975_AACAGGGCAGCTGAGA       4700.0           4356.0   \n",
       "\n",
       "                                   pct_counts_hs total_counts_tg  \\\n",
       "Pla_HDBR13007975_AAACGAATCTCCGAGG      98.657211            36.0   \n",
       "Pla_HDBR13007975_AAAGGATCAGTTAGGG      81.662804          2135.0   \n",
       "Pla_HDBR13007975_AAAGTGAAGCACTAGG      99.684311           142.0   \n",
       "Pla_HDBR13007975_AAATGGACAGATTAAG      99.483551           202.0   \n",
       "Pla_HDBR13007975_AACAGGGCAGCTGAGA      92.680855           344.0   \n",
       "\n",
       "                                   pct_counts_tg  Tg_infected  \n",
       "Pla_HDBR13007975_AAACGAATCTCCGAGG       1.342783         True  \n",
       "Pla_HDBR13007975_AAAGGATCAGTTAGGG      18.337198         True  \n",
       "Pla_HDBR13007975_AAAGTGAAGCACTAGG       0.315689         True  \n",
       "Pla_HDBR13007975_AAATGGACAGATTAAG       0.516452         True  \n",
       "Pla_HDBR13007975_AACAGGGCAGCTGAGA       7.319149         True  \n",
       "\n",
       "[5 rows x 25 columns]"
      ]
     },
     "execution_count": 47,
     "metadata": {},
     "output_type": "execute_result"
    }
   ],
   "source": [
    "adata.obs[adata.obs['Tg_infected']==True].head(5)"
   ]
  },
  {
   "cell_type": "markdown",
   "id": "adjustable-venice",
   "metadata": {},
   "source": [
    "## Save raw counts"
   ]
  },
  {
   "cell_type": "code",
   "execution_count": 48,
   "id": "comparable-product",
   "metadata": {},
   "outputs": [],
   "source": [
    "# adding the raw counts\n",
    "adata.X=adata.layers['raw_counts'].copy()\n",
    "#adata.raw = adata.copy\n",
    "adata.write('../data/rna1_counts_Tg_adata.h5ad')"
   ]
  },
  {
   "cell_type": "code",
   "execution_count": 12,
   "id": "representative-layer",
   "metadata": {},
   "outputs": [],
   "source": [
    "#adata= sc.read('../data/rna1_counts_Tg_adata.h5ad')"
   ]
  },
  {
   "cell_type": "code",
   "execution_count": null,
   "id": "joint-memory",
   "metadata": {},
   "outputs": [],
   "source": []
  },
  {
   "cell_type": "code",
   "execution_count": null,
   "id": "floppy-optimum",
   "metadata": {},
   "outputs": [],
   "source": []
  },
  {
   "cell_type": "markdown",
   "id": "emotional-perfume",
   "metadata": {},
   "source": [
    "### Most expressed Tg genes"
   ]
  },
  {
   "cell_type": "markdown",
   "id": "fatty-opening",
   "metadata": {},
   "source": [
    "#### First subsetting the cells flagged as infected with T. gondii"
   ]
  },
  {
   "cell_type": "code",
   "execution_count": 60,
   "id": "structured-harris",
   "metadata": {},
   "outputs": [
    {
     "name": "stderr",
     "output_type": "stream",
     "text": [
      "/opt/conda/lib/python3.8/site-packages/pandas/core/arrays/categorical.py:2487: FutureWarning: The `inplace` parameter in pandas.Categorical.remove_unused_categories is deprecated and will be removed in a future version.\n",
      "  res = method(*args, **kwargs)\n"
     ]
    }
   ],
   "source": [
    "tg_data = adata[adata.obs['Tg_infected'] == True, :]"
   ]
  },
  {
   "cell_type": "code",
   "execution_count": 61,
   "id": "bibliographic-jones",
   "metadata": {},
   "outputs": [
    {
     "data": {
      "text/plain": [
       "View of AnnData object with n_obs × n_vars = 1033 × 45238\n",
       "    obs: 'sample', 'stage', 'donor', 'hpi', 'infection', 'percent_mito', 'n_counts', 'batch', 'scrublet_score', 'scrublet_cluster_score', 'zscore', 'bh_pval', 'bonf_pval', 'is_doublet', 'infection_stage', 'S_score', 'G2M_score', 'phase', 'n_genes_by_counts', 'total_counts', 'total_counts_hs', 'pct_counts_hs', 'total_counts_tg', 'pct_counts_tg', 'Tg_infected'\n",
       "    var: 'gene_ids', 'feature_types', 'mean', 'std', 'hs', 'tg', 'n_cells_by_counts', 'mean_counts', 'pct_dropout_by_counts', 'total_counts'\n",
       "    uns: 'infection_colors'\n",
       "    layers: 'raw_counts'"
      ]
     },
     "execution_count": 61,
     "metadata": {},
     "output_type": "execute_result"
    }
   ],
   "source": [
    "tg_data"
   ]
  },
  {
   "cell_type": "code",
   "execution_count": 62,
   "id": "immediate-phenomenon",
   "metadata": {},
   "outputs": [],
   "source": [
    "# Find gene names containing \"TGGT1\", T. gondii genes\n",
    "tg_genes = adata.var_names.str.contains(\"TGGT1\")\n",
    "\n",
    "# 2. Subset the gene expression matrix to those genes\n",
    "tg_data = adata[:, tg_genes]"
   ]
  },
  {
   "cell_type": "code",
   "execution_count": null,
   "id": "convenient-holly",
   "metadata": {},
   "outputs": [],
   "source": []
  },
  {
   "cell_type": "markdown",
   "id": "continuous-citation",
   "metadata": {},
   "source": [
    "#### Q4: What are the top 10 most expressed T. gondii genes across cells flagged as infected?"
   ]
  },
  {
   "cell_type": "code",
   "execution_count": 68,
   "id": "ranging-account",
   "metadata": {},
   "outputs": [
    {
     "name": "stderr",
     "output_type": "stream",
     "text": [
      "WARNING: Some cells have total count of genes equal to zero\n"
     ]
    },
    {
     "data": {
      "image/png": "[encoded data removed]",
      "text/plain": [
       "<Figure size 400x200 with 1 Axes>"
      ]
     },
     "metadata": {
      "needs_background": "light"
     },
     "output_type": "display_data"
    }
   ],
   "source": [
    "sc.pl.highest_expr_genes(tg_data, n_top=5)"
   ]
  },
  {
   "cell_type": "code",
   "execution_count": null,
   "id": "global-cleveland",
   "metadata": {},
   "outputs": [],
   "source": []
  }
 ],
 "metadata": {
  "kernelspec": {
   "display_name": "Python 3",
   "language": "python",
   "name": "python3"
  },
  "language_info": {
   "codemirror_mode": {
    "name": "ipython",
    "version": 3
   },
   "file_extension": ".py",
   "mimetype": "text/x-python",
   "name": "python",
   "nbconvert_exporter": "python",
   "pygments_lexer": "ipython3",
   "version": "3.8.8"
  }
 },
 "nbformat": 4,
 "nbformat_minor": 5
}
